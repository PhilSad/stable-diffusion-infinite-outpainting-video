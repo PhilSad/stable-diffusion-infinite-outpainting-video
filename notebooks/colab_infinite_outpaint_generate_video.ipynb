{
  "nbformat": 4,
  "nbformat_minor": 0,
  "metadata": {
    "colab": {
      "provenance": [],
      "authorship_tag": "ABX9TyP6LULDvr1KtuRCy0rRYQ0N",
      "include_colab_link": true
    },
    "kernelspec": {
      "name": "python3",
      "display_name": "Python 3"
    },
    "language_info": {
      "name": "python"
    }
  },
  "cells": [
    {
      "cell_type": "markdown",
      "metadata": {
        "id": "view-in-github",
        "colab_type": "text"
      },
      "source": [
        "<a href=\"https://colab.research.google.com/github/PhilSad/stable-diffusion-infinite-outpainting-video/blob/main/notebooks/colab_infinite_outpaint_generate_video.ipynb\" target=\"_parent\"><img src=\"https://colab.research.google.com/assets/colab-badge.svg\" alt=\"Open In Colab\"/></a>"
      ]
    },
    {
      "cell_type": "code",
      "execution_count": 1,
      "metadata": {
        "colab": {
          "base_uri": "https://localhost:8080/"
        },
        "id": "R5e_3Ot3OMjQ",
        "outputId": "1e80c9b7-09af-414f-dc89-0aac17ad8689"
      },
      "outputs": [
        {
          "output_type": "stream",
          "name": "stdout",
          "text": [
            "Mounted at /content/drive\n"
          ]
        }
      ],
      "source": [
        "from google.colab import drive\n",
        "drive.mount('/content/drive')"
      ]
    },
    {
      "cell_type": "code",
      "source": [
        "SESSION_NAME = 'test' \n",
        "N_STEPS = '52'"
      ],
      "metadata": {
        "id": "4mJPE4yjOQkm"
      },
      "execution_count": 2,
      "outputs": []
    },
    {
      "cell_type": "code",
      "source": [
        "import os\n",
        "DRIVE_BASE_DIR = \"/content/drive/MyDrive/stable-diffusion-infinite-outpaint\"\n",
        "BASE_IMAGE_DIR = f'{DRIVE_BASE_DIR}/{SESSION_NAME}/base_images'\n",
        "BASE_VIDEO_DIR = f'{DRIVE_BASE_DIR}/{SESSION_NAME}/videos'\n",
        "\n",
        "\n",
        "if not os.path.exists(DRIVE_BASE_DIR):\n",
        "  os.makedirs(DRIVE_BASE_DIR)\n",
        "\n",
        "!git clone https://github.com/PhilSad/stable-diffusion-infinite-outpainting-video.git\n",
        "%cd stable-diffusion-infinite-outpainting-video\n",
        "!pip install -r requirements.txt"
      ],
      "metadata": {
        "id": "4R7DQQnXOXGX"
      },
      "execution_count": null,
      "outputs": []
    },
    {
      "cell_type": "code",
      "source": [
        "!python generate_video.py --base_images_fullpath {BASE_IMAGE_DIR} --save_videos_fullpath {BASE_VIDEO_DIR} --downscale_factor 4 \n"
      ],
      "metadata": {
        "id": "UGBu_zP7OZ2y"
      },
      "execution_count": null,
      "outputs": []
    },
    {
      "cell_type": "code",
      "source": [],
      "metadata": {
        "id": "1Y4EiHHlbuyS"
      },
      "execution_count": null,
      "outputs": []
    }
  ]
}