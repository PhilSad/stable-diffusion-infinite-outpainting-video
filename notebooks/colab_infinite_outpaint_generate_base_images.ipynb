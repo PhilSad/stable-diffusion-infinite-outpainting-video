{
  "cells": [
    {
      "attachments": {},
      "cell_type": "markdown",
      "metadata": {
        "colab_type": "text",
        "id": "view-in-github"
      },
      "source": [
        "<a href=\"https://colab.research.google.com/github/PhilSad/stable-diffusion-infinite-outpainting-video/blob/main/notebooks/colab_infinite_outpaint_generate_base_images.ipynb\" target=\"_parent\"><img src=\"https://colab.research.google.com/assets/colab-badge.svg\" alt=\"Open In Colab\"/></a>\n"
      ]
    },
    {
      "cell_type": "code",
      "execution_count": null,
      "metadata": {
        "colab": {
          "base_uri": "https://localhost:8080/"
        },
        "id": "sw5KbYV__6eO",
        "outputId": "bd4a601f-8307-4c81-8efa-36a15e646e0a"
      },
      "outputs": [
        {
          "name": "stdout",
          "output_type": "stream",
          "text": [
            "Mounted at /content/drive\n"
          ]
        }
      ],
      "source": [
        "from google.colab import drive\n",
        "drive.mount('/content/drive')"
      ]
    },
    {
      "cell_type": "markdown",
      "metadata": {
        "id": "R01xR8EWgiDA"
      },
      "source": [
        "Variable setup:"
      ]
    },
    {
      "cell_type": "code",
      "execution_count": null,
      "metadata": {
        "id": "gQ-NrviOJzW_"
      },
      "outputs": [],
      "source": [
        "# Choose a new SESSION_NAME\n",
        "# will create a directory in your gdrive: MyDrive/stable-diffusion-infinite-outpaint/{SESSION_NAME}\n",
        "# Choose a SESSION_NAME that you did not use before, otherwise the generated files will be replaced\n",
        "\n",
        "SESSION_NAME = 'dummy' \n",
        "N_STEPS = '5'"
      ]
    },
    {
      "cell_type": "markdown",
      "metadata": {
        "id": "Ckd-RVLRgMQC"
      },
      "source": [
        "Insert the prompts you want to use in a file called input.txt:"
      ]
    },
    {
      "cell_type": "code",
      "execution_count": null,
      "metadata": {
        "colab": {
          "base_uri": "https://localhost:8080/"
        },
        "id": "w4zjWFWSfc_f",
        "outputId": "0ffd6f43-3247-46c0-c560-fa48eff716af"
      },
      "outputs": [
        {
          "name": "stdout",
          "output_type": "stream",
          "text": [
            "Writing input.txt\n"
          ]
        }
      ],
      "source": [
        "%%file input.txt\n",
        "A dog sitting in a bench park\n",
        "A cat sitting in a bench park\n"
      ]
    },
    {
      "cell_type": "code",
      "execution_count": null,
      "metadata": {
        "id": "42_QCttuCJZD"
      },
      "outputs": [],
      "source": [
        "#@title Setup\n",
        "\n",
        "import os\n",
        "\n",
        "DRIVE_BASE_DIR = \"/content/drive/MyDrive/stable-diffusion-infinite-outpaint\"\n",
        "BASE_IMAGE_DIR = f'{DRIVE_BASE_DIR}/{SESSION_NAME}/base_images'\n",
        "SD_IMAGE_DIR = f'{DRIVE_BASE_DIR}/{SESSION_NAME}/sd_images'\n",
        "\n",
        "if not os.path.exists(DRIVE_BASE_DIR):\n",
        "  os.makedirs(DRIVE_BASE_DIR)\n",
        "\n",
        "!git clone https://github.com/PhilSad/stable-diffusion-infinite-outpainting-video.git\n",
        "%cd stable-diffusion-infinite-outpainting-video\n",
        "!pip install -r requirements.txt"
      ]
    },
    {
      "cell_type": "code",
      "execution_count": null,
      "metadata": {
        "id": "KulH6i9b2q4t"
      },
      "outputs": [],
      "source": [
        "!python infinite_outpaint.py --prompts_path ../input.txt --n_steps {N_STEPS} --downscale_factor 4 --save_folder_hq {BASE_IMAGE_DIR} --save_folder_sd {SD_IMAGE_DIR}\n"
      ]
    },
    {
      "cell_type": "code",
      "execution_count": null,
      "metadata": {
        "id": "uX8wJbzUDRUH"
      },
      "outputs": [],
      "source": [
        "from super_resolution import generate_base_images_ia\n",
        "for i, base_image in enumerate(generate_base_images_ia(images)):\n",
        "    base_image.save(f'{BASE_IMAGE_DIR}/{i}.jpeg')"
      ]
    }
  ],
  "metadata": {
    "accelerator": "GPU",
    "colab": {
      "include_colab_link": true,
      "provenance": []
    },
    "gpuClass": "standard",
    "kernelspec": {
      "display_name": "Python 3",
      "name": "python3"
    },
    "language_info": {
      "name": "python"
    }
  },
  "nbformat": 4,
  "nbformat_minor": 0
}
