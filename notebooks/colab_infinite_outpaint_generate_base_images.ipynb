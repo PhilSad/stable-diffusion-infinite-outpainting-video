{
  "nbformat": 4,
  "nbformat_minor": 0,
  "metadata": {
    "colab": {
      "provenance": [],
      "mount_file_id": "1-c-y-ROcQD3ui0rtu7OWsrWpCT3coQYX",
      "authorship_tag": "ABX9TyOt4evjbhc8ciDgJWEWJbtt",
      "include_colab_link": true
    },
    "kernelspec": {
      "name": "python3",
      "display_name": "Python 3"
    },
    "language_info": {
      "name": "python"
    },
    "gpuClass": "standard"
  },
  "cells": [
    {
      "cell_type": "markdown",
      "metadata": {
        "id": "view-in-github",
        "colab_type": "text"
      },
      "source": [
        "<a href=\"https://colab.research.google.com/github/PhilSad/stable-diffusion-infinite-outpainting-video/blob/main/notebooks/colab_infinite_outpaint_generate_base_images.ipynb\" target=\"_parent\"><img src=\"https://colab.research.google.com/assets/colab-badge.svg\" alt=\"Open In Colab\"/></a>"
      ]
    },
    {
      "cell_type": "code",
      "source": [
        "from google.colab import drive\n",
        "drive.mount('/content/drive')"
      ],
      "metadata": {
        "colab": {
          "base_uri": "https://localhost:8080/"
        },
        "id": "sw5KbYV__6eO",
        "outputId": "e700d2ca-0289-4a59-e71f-1b4c15a72e8c"
      },
      "execution_count": 1,
      "outputs": [
        {
          "output_type": "stream",
          "name": "stdout",
          "text": [
            "Drive already mounted at /content/drive; to attempt to forcibly remount, call drive.mount(\"/content/drive\", force_remount=True).\n"
          ]
        }
      ]
    },
    {
      "cell_type": "code",
      "source": [
        "SESSION_NAME = 'dummy' \n",
        "N_STEPS = '5'"
      ],
      "metadata": {
        "id": "gQ-NrviOJzW_"
      },
      "execution_count": 20,
      "outputs": []
    },
    {
      "cell_type": "code",
      "source": [
        "import os\n",
        "DRIVE_BASE_DIR = \"/content/drive/MyDrive/stable-diffusion-infinite-outpaint\"\n",
        "BASE_IMAGE_DIR = f'{DRIVE_BASE_DIR}/{SESSION_NAME}/base_images'\n",
        "\n",
        "if not os.path.exists(DRIVE_BASE_DIR):\n",
        "  os.makedirs(DRIVE_BASE_DIR)\n",
        "\n",
        "!git clone https://github.com/PhilSad/stable-diffusion-infinite-outpainting-video.git\n",
        "%cd stable-diffusion-infinite-outpainting-video\n",
        "!pip install -r requirements.txt\n"
      ],
      "metadata": {
        "id": "42_QCttuCJZD"
      },
      "execution_count": 21,
      "outputs": []
    },
    {
      "cell_type": "code",
      "source": [
        "%%file input.txt\n",
        "A dog sitting on a park bench\n",
        "A cat sitting on a park bench\n"
      ],
      "metadata": {
        "colab": {
          "base_uri": "https://localhost:8080/"
        },
        "id": "MXr7BjFx2ZRq",
        "outputId": "c7968dbb-5788-499a-b9fd-2f69da141713"
      },
      "execution_count": 22,
      "outputs": [
        {
          "output_type": "stream",
          "name": "stdout",
          "text": [
            "Overwriting input.txt\n"
          ]
        }
      ]
    },
    {
      "cell_type": "code",
      "source": [
        "!python infinite_outpaint.py --prompts_path input.txt --n_steps {N_STEPS} --downscale_factor 4 --save_folder {BASE_IMAGE_DIR}\n"
      ],
      "metadata": {
        "id": "KulH6i9b2q4t"
      },
      "execution_count": null,
      "outputs": []
    },
    {
      "cell_type": "code",
      "source": [],
      "metadata": {
        "id": "uX8wJbzUDRUH"
      },
      "execution_count": null,
      "outputs": []
    }
  ]
}