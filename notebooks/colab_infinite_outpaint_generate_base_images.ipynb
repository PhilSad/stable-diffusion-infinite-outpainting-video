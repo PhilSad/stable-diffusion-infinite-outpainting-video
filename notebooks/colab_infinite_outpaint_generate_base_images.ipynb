{
  "nbformat": 4,
  "nbformat_minor": 0,
  "metadata": {
    "colab": {
      "provenance": [],
      "include_colab_link": true
    },
    "kernelspec": {
      "name": "python3",
      "display_name": "Python 3"
    },
    "language_info": {
      "name": "python"
    },
    "gpuClass": "standard",
    "accelerator": "GPU"
  },
  "cells": [
    {
      "cell_type": "markdown",
      "metadata": {
        "id": "view-in-github",
        "colab_type": "text"
      },
      "source": [
        "<a href=\"https://colab.research.google.com/github/PhilSad/stable-diffusion-infinite-outpainting-video/blob/main/notebooks/colab_infinite_outpaint_generate_base_images.ipynb\" target=\"_parent\"><img src=\"https://colab.research.google.com/assets/colab-badge.svg\" alt=\"Open In Colab\"/></a>"
      ]
    },
    {
      "cell_type": "code",
      "source": [
        "from google.colab import drive\n",
        "drive.mount('/content/drive')"
      ],
      "metadata": {
        "colab": {
          "base_uri": "https://localhost:8080/"
        },
        "id": "sw5KbYV__6eO",
        "outputId": "bd4a601f-8307-4c81-8efa-36a15e646e0a"
      },
      "execution_count": 1,
      "outputs": [
        {
          "output_type": "stream",
          "name": "stdout",
          "text": [
            "Mounted at /content/drive\n"
          ]
        }
      ]
    },
    {
      "cell_type": "markdown",
      "source": [
        "Variable setup:"
      ],
      "metadata": {
        "id": "R01xR8EWgiDA"
      }
    },
    {
      "cell_type": "code",
      "source": [
        "# Choose a new SESSION_NAME\n",
        "# will create a directory in your gdrive: MyDrive/stable-diffusion-infinite-outpaint/{SESSION_NAME}\n",
        "# Choose a SESSION_NAME that you did not use before, otherwise the generated files will be replaced\n",
        "\n",
        "SESSION_NAME = 'french_long' \n",
        "N_STEPS = '50000'"
      ],
      "metadata": {
        "id": "gQ-NrviOJzW_"
      },
      "execution_count": 2,
      "outputs": []
    },
    {
      "cell_type": "markdown",
      "source": [
        "Insert the prompts you want to use in a file called input.txt:"
      ],
      "metadata": {
        "id": "Ckd-RVLRgMQC"
      }
    },
    {
      "cell_type": "code",
      "source": [
        "%%file input.txt\n",
        "French baguette, epic shot, masterpiece, digital painting, colorful\n",
        "French cheese, epic shot, masterpiece, digital painting, colorful\n",
        "\n"
      ],
      "metadata": {
        "id": "w4zjWFWSfc_f",
        "outputId": "0ffd6f43-3247-46c0-c560-fa48eff716af",
        "colab": {
          "base_uri": "https://localhost:8080/"
        }
      },
      "execution_count": 6,
      "outputs": [
        {
          "output_type": "stream",
          "name": "stdout",
          "text": [
            "Writing input.txt\n"
          ]
        }
      ]
    },
    {
      "cell_type": "code",
      "source": [
        "#@title Setup\n",
        "\n",
        "import os\n",
        "DRIVE_BASE_DIR = \"/content/drive/MyDrive/stable-diffusion-infinite-outpaint\"\n",
        "BASE_IMAGE_DIR = f'{DRIVE_BASE_DIR}/{SESSION_NAME}/base_images'\n",
        "\n",
        "if not os.path.exists(DRIVE_BASE_DIR):\n",
        "  os.makedirs(DRIVE_BASE_DIR)\n",
        "\n",
        "!git clone https://github.com/PhilSad/stable-diffusion-infinite-outpainting-video.git\n",
        "%cd stable-diffusion-infinite-outpainting-video\n",
        "!pip install -r requirements.txt\n"
      ],
      "metadata": {
        "id": "42_QCttuCJZD"
      },
      "execution_count": null,
      "outputs": []
    },
    {
      "cell_type": "code",
      "source": [
        "!python infinite_outpaint.py --prompts_path ../input.txt --n_steps {N_STEPS} --downscale_factor 4 --save_folder {BASE_IMAGE_DIR}\n"
      ],
      "metadata": {
        "id": "KulH6i9b2q4t",
        "outputId": "529abbf9-8965-4961-e152-14a53c98dd9d",
        "colab": {
          "base_uri": "https://localhost:8080/"
        }
      },
      "execution_count": null,
      "outputs": [
        {
          "output_type": "stream",
          "name": "stdout",
          "text": [
            "['French baguette, epic shot, masterpiece, digital painting, colorful', 'French cheese, epic shot, masterpiece, digital painting, colorful', 'French president Jacques Chirac, epic shot, masterpiece, digital painting, colorful', 'French wine, epic shot, masterpiece, digital painting, colorful', 'Map of France, epic shot, masterpiece, digital painting, colorful', 'French president Nicolas Sarkozy, epic shot, masterpiece, digital painting, colorful', 'French army soldier, epic shot, masterpiece, digital painting, colorful', 'French rafale war plane, epic shot, masterpiece, digital painting, colorful', 'French president Francois Hollande, epic shot, masterpiece, digital painting, colorful', 'French Nuclear Power Plant, epic shot, masterpiece, digital painting, colorful', 'French LGBT happy, epic shot, masterpiece, digital painting, colorful', 'French President Emmanuel Macron, epic shot, masterpiece, digital painting, colorful', 'French Revolution, epic shot, masterpiece, digital painting, colorful', 'French Revolution, epic shot, masterpiece, digital painting, colorful', 'French Revolution, epic shot, masterpiece, digital painting, colorful', '']\n",
            "generating first image\n",
            "Downloading (…)p16/model_index.json: 100% 517/517 [00:00<00:00, 61.2kB/s]\n",
            "Fetching 12 files:   0% 0/12 [00:00<?, ?it/s]\n",
            "Downloading (…)\"pytorch_model.bin\";:   0% 0.00/681M [00:00<?, ?B/s]\u001b[A\n",
            "Downloading (…)\"pytorch_model.bin\";:   3% 21.0M/681M [00:00<00:03, 176MB/s]\u001b[A\n",
            "Downloading (…)\"pytorch_model.bin\";:   8% 52.4M/681M [00:00<00:02, 250MB/s]\u001b[A\n",
            "\n",
            "Downloading (…)cheduler_config.json: 100% 351/351 [00:00<00:00, 48.3kB/s]\n",
            "Fetching 12 files:  17% 2/12 [00:00<00:02,  3.36it/s]\n",
            "\n",
            "Downloading (…)tokenizer/merges.txt:   0% 0.00/525k [00:00<?, ?B/s]\u001b[A\u001b[A\n",
            "\n",
            "\n",
            "Downloading (…)_encoder/config.json: 100% 628/628 [00:00<00:00, 98.0kB/s]\n",
            "\n",
            "\n",
            "\n",
            "Downloading (…)75a/unet/config.json:   0% 0.00/999 [00:00<?, ?B/s]\u001b[A\u001b[A\u001b[A\n",
            "\n",
            "\n",
            "\n",
            "Downloading (…)75a/unet/config.json: 100% 999/999 [00:00<00:00, 82.5kB/s]\n",
            "\n",
            "\n",
            "\n",
            "Downloading (…)okenizer_config.json: 100% 819/819 [00:00<00:00, 61.7kB/s]\n",
            "Downloading (…)cial_tokens_map.json: 100% 460/460 [00:00<00:00, 60.0kB/s]\n",
            "\n",
            "\n",
            "\n",
            "Downloading (…)tokenizer/vocab.json:   0% 0.00/1.06M [00:00<?, ?B/s]\u001b[A\u001b[A\u001b[A\n",
            "Downloading (…)\"pytorch_model.bin\";:  12% 83.9M/681M [00:00<00:02, 228MB/s]\u001b[A\n",
            "Downloading (…)\"pytorch_model.bin\";:  18% 126M/681M [00:00<00:02, 264MB/s] \u001b[A\n",
            "\n",
            "Downloading (…)tokenizer/merges.txt: 100% 525k/525k [00:00<00:00, 1.55MB/s]\n",
            "\n",
            "\n",
            "Downloading (…)_pytorch_model.bin\";:   0% 0.00/1.73G [00:00<?, ?B/s]\u001b[A\u001b[A\n",
            "\n",
            "\n",
            "\n",
            "Downloading (…)_pytorch_model.bin\";:   0% 0.00/167M [00:00<?, ?B/s]\u001b[A\u001b[A\u001b[A\u001b[A\n",
            "Downloading (…)\"pytorch_model.bin\";:  23% 157M/681M [00:00<00:02, 228MB/s]\u001b[A\n",
            "\n",
            "\n",
            "Downloading (…)tokenizer/vocab.json: 100% 1.06M/1.06M [00:00<00:00, 2.62MB/s]\n",
            "\n",
            "\n",
            "Downloading (…)_pytorch_model.bin\";:   1% 10.5M/1.73G [00:00<00:24, 71.6MB/s]\u001b[A\u001b[A\n",
            "\n",
            "\n",
            "\n",
            "Downloading (…)_pytorch_model.bin\";:   6% 10.5M/167M [00:00<00:02, 61.0MB/s]\u001b[A\u001b[A\u001b[A\u001b[A\n",
            "Downloading (…)\"pytorch_model.bin\";:  28% 189M/681M [00:00<00:02, 233MB/s]\u001b[A\n",
            "\n",
            "\n",
            "Downloading (…)d75a/vae/config.json: 100% 612/612 [00:00<00:00, 181kB/s]\n",
            "\n",
            "\n",
            "Downloading (…)_pytorch_model.bin\";:   1% 21.0M/1.73G [00:00<00:22, 75.7MB/s]\u001b[A\u001b[A\n",
            "\n",
            "\n",
            "\n",
            "Downloading (…)_pytorch_model.bin\";:  13% 21.0M/167M [00:00<00:01, 73.9MB/s]\u001b[A\u001b[A\u001b[A\u001b[A\n",
            "Downloading (…)\"pytorch_model.bin\";:  32% 220M/681M [00:01<00:02, 203MB/s]\u001b[A\n",
            "\n",
            "Downloading (…)_pytorch_model.bin\";:   2% 41.9M/1.73G [00:00<00:18, 90.9MB/s]\u001b[A\u001b[A\n",
            "\n",
            "\n",
            "\n",
            "Downloading (…)_pytorch_model.bin\";:  25% 41.9M/167M [00:00<00:01, 91.5MB/s]\u001b[A\u001b[A\u001b[A\u001b[A\n",
            "Downloading (…)\"pytorch_model.bin\";:  37% 252M/681M [00:01<00:02, 187MB/s]\u001b[A\n",
            "\n",
            "\n",
            "\n",
            "Downloading (…)_pytorch_model.bin\";:  38% 62.9M/167M [00:00<00:00, 121MB/s] \u001b[A\u001b[A\u001b[A\u001b[A\n",
            "\n",
            "Downloading (…)_pytorch_model.bin\";:   4% 62.9M/1.73G [00:00<00:15, 108MB/s] \u001b[A\u001b[A\n",
            "Downloading (…)\"pytorch_model.bin\";:  40% 273M/681M [00:01<00:02, 183MB/s]\u001b[A\n",
            "\n",
            "\n",
            "\n",
            "Downloading (…)_pytorch_model.bin\";:  50% 83.9M/167M [00:00<00:00, 135MB/s]\u001b[A\u001b[A\u001b[A\u001b[A\n",
            "\n",
            "Downloading (…)_pytorch_model.bin\";:   5% 83.9M/1.73G [00:00<00:12, 127MB/s]\u001b[A\u001b[A\n",
            "Downloading (…)\"pytorch_model.bin\";:  43% 294M/681M [00:01<00:02, 160MB/s]\u001b[A\n",
            "\n",
            "Downloading (…)_pytorch_model.bin\";:   6% 105M/1.73G [00:00<00:12, 130MB/s] \u001b[A\u001b[A\n",
            "\n",
            "\n",
            "\n",
            "Downloading (…)_pytorch_model.bin\";:  63% 105M/167M [00:00<00:00, 122MB/s] \u001b[A\u001b[A\u001b[A\u001b[A\n",
            "Downloading (…)\"pytorch_model.bin\";:  46% 315M/681M [00:01<00:02, 143MB/s]\u001b[A\n",
            "\n",
            "Downloading (…)_pytorch_model.bin\";:   7% 126M/1.73G [00:01<00:13, 116MB/s]\u001b[A\u001b[A\n",
            "\n",
            "\n",
            "\n",
            "Downloading (…)_pytorch_model.bin\";:  75% 126M/167M [00:01<00:00, 113MB/s]\u001b[A\u001b[A\u001b[A\u001b[A\n",
            "Downloading (…)\"pytorch_model.bin\";:  49% 336M/681M [00:01<00:02, 124MB/s]\u001b[A\n",
            "\n",
            "Downloading (…)_pytorch_model.bin\";:   8% 147M/1.73G [00:01<00:14, 110MB/s]\u001b[A\u001b[A\n",
            "\n",
            "\n",
            "\n",
            "Downloading (…)_pytorch_model.bin\";:  88% 147M/167M [00:01<00:00, 101MB/s]\u001b[A\u001b[A\u001b[A\u001b[A\n",
            "Downloading (…)\"pytorch_model.bin\";:  52% 357M/681M [00:02<00:02, 111MB/s]\u001b[A\n",
            "\n",
            "Downloading (…)_pytorch_model.bin\";:  10% 168M/1.73G [00:01<00:15, 102MB/s]\u001b[A\u001b[A\n",
            "\n",
            "\n",
            "\n",
            "Downloading (…)_pytorch_model.bin\";: 100% 167M/167M [00:01<00:00, 96.5MB/s]\n",
            "\n",
            "Downloading (…)\"pytorch_model.bin\";:  55% 377M/681M [00:02<00:03, 99.6MB/s]\u001b[A\n",
            "\n",
            "Downloading (…)_pytorch_model.bin\";:  11% 189M/1.73G [00:01<00:16, 93.6MB/s]\u001b[A\u001b[A\n",
            "\n",
            "Downloading (…)_pytorch_model.bin\";:  12% 199M/1.73G [00:01<00:16, 93.7MB/s]\u001b[A\u001b[A\n",
            "Downloading (…)\"pytorch_model.bin\";:  59% 398M/681M [00:02<00:02, 98.7MB/s]\u001b[A\n",
            "\n",
            "Downloading (…)_pytorch_model.bin\";:  12% 210M/1.73G [00:02<00:16, 92.7MB/s]\u001b[A\u001b[A\n",
            "Downloading (…)\"pytorch_model.bin\";:  62% 419M/681M [00:02<00:02, 98.9MB/s]\u001b[A\n",
            "\n",
            "Downloading (…)_pytorch_model.bin\";:  13% 231M/1.73G [00:02<00:15, 99.6MB/s]\u001b[A\u001b[A\n",
            "\n",
            "Downloading (…)_pytorch_model.bin\";:  14% 241M/1.73G [00:02<00:15, 99.0MB/s]\u001b[A\u001b[A\n",
            "Downloading (…)\"pytorch_model.bin\";:  65% 440M/681M [00:03<00:02, 103MB/s] \u001b[A\n",
            "\n",
            "Downloading (…)_pytorch_model.bin\";:  15% 252M/1.73G [00:02<00:14, 99.7MB/s]\u001b[A\u001b[A\n",
            "Downloading (…)\"pytorch_model.bin\";:  68% 461M/681M [00:03<00:02, 105MB/s]\u001b[A\n",
            "\n",
            "Downloading (…)_pytorch_model.bin\";:  16% 273M/1.73G [00:02<00:13, 106MB/s] \u001b[A\u001b[A\n",
            "Downloading (…)\"pytorch_model.bin\";:  71% 482M/681M [00:03<00:01, 108MB/s]\u001b[A\n",
            "\n",
            "Downloading (…)_pytorch_model.bin\";:  17% 294M/1.73G [00:02<00:13, 110MB/s]\u001b[A\u001b[A\n",
            "Downloading (…)\"pytorch_model.bin\";:  74% 503M/681M [00:03<00:01, 94.3MB/s]\u001b[A\n",
            "\n",
            "Downloading (…)_pytorch_model.bin\";:  18% 315M/1.73G [00:03<00:14, 97.7MB/s]\u001b[A\u001b[A\n",
            "\n",
            "Downloading (…)_pytorch_model.bin\";:  19% 336M/1.73G [00:03<00:11, 118MB/s] \u001b[A\u001b[A\n",
            "Downloading (…)\"pytorch_model.bin\";:  79% 535M/681M [00:03<00:01, 118MB/s] \u001b[A\n",
            "\n",
            "Downloading (…)_pytorch_model.bin\";:  21% 357M/1.73G [00:03<00:10, 126MB/s]\u001b[A\u001b[A\n",
            "Downloading (…)\"pytorch_model.bin\";:  82% 556M/681M [00:04<00:00, 126MB/s]\u001b[A\n",
            "\n",
            "Downloading (…)_pytorch_model.bin\";:  22% 377M/1.73G [00:03<00:10, 129MB/s]\u001b[A\u001b[A\n",
            "Downloading (…)\"pytorch_model.bin\";:  85% 577M/681M [00:04<00:00, 127MB/s]\u001b[A\n",
            "\n",
            "Downloading (…)_pytorch_model.bin\";:  23% 398M/1.73G [00:03<00:11, 120MB/s]\u001b[A\u001b[A\n",
            "Downloading (…)\"pytorch_model.bin\";:  88% 598M/681M [00:04<00:00, 118MB/s]\u001b[A\n",
            "\n",
            "Downloading (…)_pytorch_model.bin\";:  24% 419M/1.73G [00:03<00:10, 125MB/s]\u001b[A\u001b[A\n",
            "Downloading (…)\"pytorch_model.bin\";:  91% 619M/681M [00:04<00:00, 119MB/s]\u001b[A\n",
            "\n",
            "Downloading (…)_pytorch_model.bin\";:  25% 440M/1.73G [00:04<00:10, 121MB/s]\u001b[A\u001b[A\n",
            "Downloading (…)\"pytorch_model.bin\";:  94% 640M/681M [00:04<00:00, 113MB/s]\u001b[A\n",
            "\n",
            "Downloading (…)_pytorch_model.bin\";:  27% 461M/1.73G [00:04<00:10, 122MB/s]\u001b[A\u001b[A\n",
            "Downloading (…)\"pytorch_model.bin\";:  97% 661M/681M [00:04<00:00, 121MB/s]\u001b[A\n",
            "\n",
            "Downloading (…)_pytorch_model.bin\";:  28% 482M/1.73G [00:04<00:09, 127MB/s]\u001b[A\u001b[A\n",
            "Downloading (…)\"pytorch_model.bin\";: 100% 681M/681M [00:05<00:00, 134MB/s]\n",
            "Fetching 12 files:  33% 4/12 [00:05<00:12,  1.55s/it]\n",
            "\n",
            "Downloading (…)_pytorch_model.bin\";:  29% 503M/1.73G [00:04<00:09, 132MB/s]\u001b[A\u001b[A\n",
            "\n",
            "Downloading (…)_pytorch_model.bin\";:  30% 524M/1.73G [00:04<00:08, 137MB/s]\u001b[A\u001b[A\n",
            "\n",
            "Downloading (…)_pytorch_model.bin\";:  32% 556M/1.73G [00:04<00:07, 159MB/s]\u001b[A\u001b[A\n",
            "\n",
            "Downloading (…)_pytorch_model.bin\";:  33% 577M/1.73G [00:04<00:06, 168MB/s]\u001b[A\u001b[A\n",
            "\n",
            "Downloading (…)_pytorch_model.bin\";:  35% 608M/1.73G [00:04<00:05, 193MB/s]\u001b[A\u001b[A\n",
            "\n",
            "Downloading (…)_pytorch_model.bin\";:  37% 640M/1.73G [00:05<00:05, 215MB/s]\u001b[A\u001b[A\n",
            "\n",
            "Downloading (…)_pytorch_model.bin\";:  39% 671M/1.73G [00:05<00:04, 222MB/s]\u001b[A\u001b[A\n",
            "\n",
            "Downloading (…)_pytorch_model.bin\";:  41% 703M/1.73G [00:05<00:04, 223MB/s]\u001b[A\u001b[A\n",
            "\n",
            "Downloading (…)_pytorch_model.bin\";:  42% 734M/1.73G [00:05<00:04, 229MB/s]\u001b[A\u001b[A\n",
            "\n",
            "Downloading (…)_pytorch_model.bin\";:  44% 765M/1.73G [00:05<00:04, 230MB/s]\u001b[A\u001b[A\n",
            "\n",
            "Downloading (…)_pytorch_model.bin\";:  46% 797M/1.73G [00:05<00:03, 240MB/s]\u001b[A\u001b[A\n",
            "\n",
            "Downloading (…)_pytorch_model.bin\";:  48% 828M/1.73G [00:05<00:03, 238MB/s]\u001b[A\u001b[A\n",
            "\n",
            "Downloading (…)_pytorch_model.bin\";:  50% 860M/1.73G [00:06<00:03, 257MB/s]\u001b[A\u001b[A\n",
            "\n",
            "Downloading (…)_pytorch_model.bin\";:  51% 891M/1.73G [00:06<00:03, 226MB/s]\u001b[A\u001b[A\n",
            "\n",
            "Downloading (…)_pytorch_model.bin\";:  53% 923M/1.73G [00:06<00:03, 242MB/s]\u001b[A\u001b[A\n",
            "\n",
            "Downloading (…)_pytorch_model.bin\";:  55% 954M/1.73G [00:06<00:03, 252MB/s]\u001b[A\u001b[A\n",
            "\n",
            "Downloading (…)_pytorch_model.bin\";:  57% 986M/1.73G [00:06<00:03, 248MB/s]\u001b[A\u001b[A\n",
            "\n",
            "Downloading (…)_pytorch_model.bin\";:  59% 1.02G/1.73G [00:06<00:03, 228MB/s]\u001b[A\u001b[A\n",
            "\n",
            "Downloading (…)_pytorch_model.bin\";:  61% 1.06G/1.73G [00:06<00:02, 252MB/s]\u001b[A\u001b[A\n",
            "\n",
            "Downloading (…)_pytorch_model.bin\";:  64% 1.10G/1.73G [00:06<00:02, 273MB/s]\u001b[A\u001b[A\n",
            "\n",
            "Downloading (…)_pytorch_model.bin\";:  65% 1.13G/1.73G [00:07<00:02, 259MB/s]\u001b[A\u001b[A\n",
            "\n",
            "Downloading (…)_pytorch_model.bin\";:  67% 1.16G/1.73G [00:07<00:02, 266MB/s]\u001b[A\u001b[A\n",
            "\n",
            "Downloading (…)_pytorch_model.bin\";:  69% 1.20G/1.73G [00:07<00:02, 261MB/s]\u001b[A\u001b[A\n",
            "\n",
            "Downloading (…)_pytorch_model.bin\";:  71% 1.23G/1.73G [00:07<00:01, 264MB/s]\u001b[A\u001b[A\n",
            "\n",
            "Downloading (…)_pytorch_model.bin\";:  73% 1.27G/1.73G [00:07<00:01, 281MB/s]\u001b[A\u001b[A\n",
            "\n",
            "Downloading (…)_pytorch_model.bin\";:  76% 1.31G/1.73G [00:07<00:01, 289MB/s]\u001b[A\u001b[A\n",
            "\n",
            "Downloading (…)_pytorch_model.bin\";:  77% 1.34G/1.73G [00:07<00:01, 260MB/s]\u001b[A\u001b[A\n",
            "\n",
            "Downloading (…)_pytorch_model.bin\";:  79% 1.37G/1.73G [00:07<00:01, 261MB/s]\u001b[A\u001b[A\n",
            "\n",
            "Downloading (…)_pytorch_model.bin\";:  81% 1.41G/1.73G [00:08<00:01, 251MB/s]\u001b[A\u001b[A\n",
            "\n",
            "Downloading (…)_pytorch_model.bin\";:  83% 1.44G/1.73G [00:08<00:01, 254MB/s]\u001b[A\u001b[A\n",
            "\n",
            "Downloading (…)_pytorch_model.bin\";:  85% 1.47G/1.73G [00:08<00:01, 259MB/s]\u001b[A\u001b[A\n",
            "\n",
            "Downloading (…)_pytorch_model.bin\";:  87% 1.50G/1.73G [00:08<00:00, 249MB/s]\u001b[A\u001b[A\n",
            "\n",
            "Downloading (…)_pytorch_model.bin\";:  88% 1.53G/1.73G [00:08<00:00, 250MB/s]\u001b[A\u001b[A\n",
            "\n",
            "Downloading (…)_pytorch_model.bin\";:  90% 1.56G/1.73G [00:08<00:00, 253MB/s]\u001b[A\u001b[A\n",
            "\n",
            "Downloading (…)_pytorch_model.bin\";:  92% 1.59G/1.73G [00:08<00:00, 229MB/s]\u001b[A\u001b[A\n",
            "\n",
            "Downloading (…)_pytorch_model.bin\";:  94% 1.63G/1.73G [00:09<00:00, 230MB/s]\u001b[A\u001b[A\n",
            "\n",
            "Downloading (…)_pytorch_model.bin\";:  96% 1.66G/1.73G [00:09<00:00, 224MB/s]\u001b[A\u001b[A\n",
            "\n",
            "Downloading (…)_pytorch_model.bin\";:  97% 1.69G/1.73G [00:09<00:00, 229MB/s]\u001b[A\u001b[A\n",
            "\n",
            "Downloading (…)_pytorch_model.bin\";: 100% 1.73G/1.73G [00:09<00:00, 182MB/s]\n",
            "Fetching 12 files: 100% 12/12 [00:10<00:00,  1.14it/s]\n",
            " 38% 19/50 [00:08<00:06,  4.47it/s]"
          ]
        }
      ]
    },
    {
      "cell_type": "code",
      "source": [],
      "metadata": {
        "id": "uX8wJbzUDRUH"
      },
      "execution_count": null,
      "outputs": []
    }
  ]
}