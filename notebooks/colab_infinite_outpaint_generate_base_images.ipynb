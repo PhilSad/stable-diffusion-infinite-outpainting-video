{
  "cells": [
    {
      "cell_type": "markdown",
      "metadata": {
        "colab_type": "text",
        "id": "view-in-github"
      },
      "source": [
        "<a href=\"https://colab.research.google.com/github/PhilSad/stable-diffusion-infinite-outpainting-video/blob/staging/notebooks/colab_infinite_outpaint_generate_base_images.ipynb\" target=\"_parent\"><img src=\"https://colab.research.google.com/assets/colab-badge.svg\" alt=\"Open In Colab\"/></a>"
      ]
    },
    {
      "cell_type": "code",
      "execution_count": null,
      "metadata": {
        "id": "sw5KbYV__6eO"
      },
      "outputs": [],
      "source": [
        "from google.colab import drive\n",
        "drive.mount('/content/drive')"
      ]
    },
    {
      "cell_type": "markdown",
      "metadata": {
        "id": "R01xR8EWgiDA"
      },
      "source": [
        "Variable setup:"
      ]
    },
    {
      "cell_type": "code",
      "execution_count": 2,
      "metadata": {
        "id": "gQ-NrviOJzW_"
      },
      "outputs": [],
      "source": [
        "# Choose a new SESSION_NAME\n",
        "# will create a directory in your gdrive: MyDrive/stable-diffusion-infinite-outpaint/{SESSION_NAME}\n",
        "# Choose a SESSION_NAME that you did not use before, otherwise the generated files will be replaced\n",
        "\n",
        "SESSION_NAME = 'dummy' \n",
        "N_STEPS = '5'"
      ]
    },
    {
      "cell_type": "markdown",
      "metadata": {
        "id": "Ckd-RVLRgMQC"
      },
      "source": [
        "Insert the prompts you want to use in a file called input.txt:"
      ]
    },
    {
      "cell_type": "code",
      "execution_count": null,
      "metadata": {
        "id": "w4zjWFWSfc_f"
      },
      "outputs": [],
      "source": [
        "%%file input.txt\n",
        "A dog sitting in a bench park\n",
        "A cat sitting in a bench park\n"
      ]
    },
    {
      "cell_type": "code",
      "execution_count": null,
      "metadata": {
        "id": "42_QCttuCJZD"
      },
      "outputs": [],
      "source": [
        "#@title Setup\n",
        "\n",
        "import os\n",
        "\n",
        "DRIVE_BASE_DIR = \"/content/drive/MyDrive/stable-diffusion-infinite-outpaint\"\n",
        "BASE_IMAGE_DIR = f'{DRIVE_BASE_DIR}/{SESSION_NAME}/base_images'\n",
        "SD_IMAGE_DIR = f'{DRIVE_BASE_DIR}/{SESSION_NAME}/sd_images'\n",
        "\n",
        "if not os.path.exists(DRIVE_BASE_DIR):\n",
        "  os.makedirs(DRIVE_BASE_DIR)\n",
        "\n",
        "!git clone https://github.com/PhilSad/stable-diffusion-infinite-outpainting-video.git\n",
        "%cd stable-diffusion-infinite-outpainting-video\n",
        "!pip install -r requirements.txt"
      ]
    },
    {
      "cell_type": "code",
      "execution_count": null,
      "metadata": {
        "id": "KulH6i9b2q4t"
      },
      "outputs": [],
      "source": [
        "!python infinite_outpaint.py --prompts_path ../input.txt --n_steps {N_STEPS} --downscale_factor 4 --hq_save_folder {BASE_IMAGE_DIR} --sd_save_folder {SD_IMAGE_DIR}\n"
      ]
    },
    {
      "attachments": {},
      "cell_type": "markdown",
      "metadata": {
        "id": "Kfs4NM4-3qKk"
      },
      "source": [
        "# Next cell is usefull if you are in one of the following cases:\n",
        "* You have run out of your GPU alocated time when running the outpainting command and want to post process the outpainted images already done to generate the video (don't restart the outpainting step)\n",
        "* You already have the images that you want to add the zoom effect on and you just want to post process them for the video. You should save them in the folder `SD_IMAGE_DIR`. Their names should be 0.jpeg, 1.jpeg, 2.jpeg, .....\n",
        "\n",
        "HQ images will be saved in the `BASE_IMAGE_DIR` directory\n",
        "\n"
      ]
    },
    {
      "cell_type": "code",
      "execution_count": 10,
      "metadata": {
        "id": "EqzvX7Zg1QjC"
      },
      "outputs": [],
      "source": [
        "import glob\n",
        "from PIL import Image\n",
        "from super_resolution import generate_base_images_ia\n",
        "\n",
        "# Load the existing images in a list\n",
        "images = []\n",
        "nb_images = len(list(glob.glob(f'{SD_IMAGE_DIR}/*.jpeg')))\n",
        "for i in range(nb_images):\n",
        "  img = Image.open(f'{SD_IMAGE_DIR}/{str(i)}.jpeg')\n",
        "  images.append(img)\n",
        "\n",
        "# PostProcess 512x512 images list and save them \n",
        "for i, base_image in enumerate(generate_base_images_ia(images)):\n",
        "    base_image.save(f'{BASE_IMAGE_DIR}/{i}.jpeg')"
      ]
    },
    {
      "cell_type": "code",
      "execution_count": null,
      "metadata": {
        "id": "uX8wJbzUDRUH"
      },
      "outputs": [],
      "source": []
    }
  ],
  "metadata": {
    "accelerator": "GPU",
    "colab": {
      "include_colab_link": true,
      "provenance": []
    },
    "gpuClass": "standard",
    "kernelspec": {
      "display_name": "Python 3",
      "name": "python3"
    },
    "language_info": {
      "name": "python"
    }
  },
  "nbformat": 4,
  "nbformat_minor": 0
}
