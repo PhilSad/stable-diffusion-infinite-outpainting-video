{
  "nbformat": 4,
  "nbformat_minor": 0,
  "metadata": {
    "colab": {
      "provenance": [],
      "include_colab_link": true
    },
    "kernelspec": {
      "name": "python3",
      "display_name": "Python 3"
    },
    "language_info": {
      "name": "python"
    },
    "gpuClass": "standard",
    "accelerator": "GPU"
  },
  "cells": [
    {
      "cell_type": "markdown",
      "metadata": {
        "id": "view-in-github",
        "colab_type": "text"
      },
      "source": [
        "<a href=\"https://colab.research.google.com/github/PhilSad/stable-diffusion-infinite-outpainting-video/blob/main/notebooks/colab_infinite_outpaint_generate_base_images.ipynb\" target=\"_parent\"><img src=\"https://colab.research.google.com/assets/colab-badge.svg\" alt=\"Open In Colab\"/></a>"
      ]
    },
    {
      "cell_type": "code",
      "source": [
        "from google.colab import drive\n",
        "drive.mount('/content/drive')"
      ],
      "metadata": {
        "colab": {
          "base_uri": "https://localhost:8080/"
        },
        "id": "sw5KbYV__6eO",
        "outputId": "e700d2ca-0289-4a59-e71f-1b4c15a72e8c"
      },
      "execution_count": null,
      "outputs": [
        {
          "output_type": "stream",
          "name": "stdout",
          "text": [
            "Drive already mounted at /content/drive; to attempt to forcibly remount, call drive.mount(\"/content/drive\", force_remount=True).\n"
          ]
        }
      ]
    },
    {
      "cell_type": "markdown",
      "source": [
        "Variable setup:"
      ],
      "metadata": {
        "id": "R01xR8EWgiDA"
      }
    },
    {
      "cell_type": "code",
      "source": [
        "# Choose a new SESSION_NAME\n",
        "# will create a directory in your gdrive: MyDrive/stable-diffusion-infinite-outpaint/{SESSION_NAME}\n",
        "# Choose a SESSION_NAME that you did not use before, otherwise the generated files will be replaced\n",
        "\n",
        "SESSION_NAME = 'dummy' \n",
        "N_STEPS = '5'"
      ],
      "metadata": {
        "id": "gQ-NrviOJzW_"
      },
      "execution_count": null,
      "outputs": []
    },
    {
      "cell_type": "markdown",
      "source": [
        "Insert the prompts you want to use in a file called input.txt:"
      ],
      "metadata": {
        "id": "Ckd-RVLRgMQC"
      }
    },
    {
      "cell_type": "code",
      "source": [
        "%%file input.txt\n",
        "A dog sitting on a park bench\n",
        "A cat sitting on a park bench\n"
      ],
      "metadata": {
        "id": "w4zjWFWSfc_f"
      },
      "execution_count": null,
      "outputs": []
    },
    {
      "cell_type": "code",
      "source": [
        "#@title Setup\n",
        "\n",
        "import os\n",
        "DRIVE_BASE_DIR = \"/content/drive/MyDrive/stable-diffusion-infinite-outpaint\"\n",
        "BASE_IMAGE_DIR = f'{DRIVE_BASE_DIR}/{SESSION_NAME}/base_images'\n",
        "\n",
        "if not os.path.exists(DRIVE_BASE_DIR):\n",
        "  os.makedirs(DRIVE_BASE_DIR)\n",
        "\n",
        "!git clone https://github.com/PhilSad/stable-diffusion-infinite-outpainting-video.git\n",
        "%cd stable-diffusion-infinite-outpainting-video\n",
        "!pip install -r requirements.txt\n"
      ],
      "metadata": {
        "id": "42_QCttuCJZD",
        "cellView": "form"
      },
      "execution_count": null,
      "outputs": []
    },
    {
      "cell_type": "code",
      "source": [
        "!python infinite_outpaint.py --prompts_path input.txt --n_steps {N_STEPS} --downscale_factor 4 --save_folder {BASE_IMAGE_DIR}\n"
      ],
      "metadata": {
        "id": "KulH6i9b2q4t"
      },
      "execution_count": null,
      "outputs": []
    },
    {
      "cell_type": "code",
      "source": [],
      "metadata": {
        "id": "uX8wJbzUDRUH"
      },
      "execution_count": null,
      "outputs": []
    }
  ]
}