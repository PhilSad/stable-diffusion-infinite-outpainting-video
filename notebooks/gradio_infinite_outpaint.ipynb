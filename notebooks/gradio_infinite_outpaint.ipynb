{
  "nbformat": 4,
  "nbformat_minor": 0,
  "metadata": {
    "colab": {
      "provenance": [],
      "gpuType": "T4",
      "include_colab_link": true
    },
    "kernelspec": {
      "name": "python3",
      "display_name": "Python 3"
    },
    "language_info": {
      "name": "python"
    },
    "accelerator": "GPU"
  },
  "cells": [
    {
      "cell_type": "markdown",
      "metadata": {
        "id": "view-in-github",
        "colab_type": "text"
      },
      "source": [
        "<a href=\"https://colab.research.google.com/github/PhilSad/stable-diffusion-infinite-outpainting-video/blob/main/notebooks/gradio_infinite_outpaint.ipynb\" target=\"_parent\"><img src=\"https://colab.research.google.com/assets/colab-badge.svg\" alt=\"Open In Colab\"/></a>"
      ]
    },
    {
      "cell_type": "code",
      "source": [
        "from google.colab import drive\n",
        "drive.mount('/content/drive')"
      ],
      "metadata": {
        "id": "0U6PITk75kBt"
      },
      "execution_count": null,
      "outputs": []
    },
    {
      "cell_type": "code",
      "source": [
        "!pip install diffusers xformers transformers accelerate gradio perlin_noise git+https://github.com/sberbank-ai/Real-ESRGAN.git\n",
        "!git clone https://github.com/PhilSad/stable-diffusion-infinite-outpainting-video\n",
        "%cd stable-diffusion-infinite-outpainting-video\n",
        "\n",
        "import gradio as gr\n",
        "import PIL\n",
        "from diffusers import StableDiffusionInpaintPipeline, StableDiffusionPipeline\n",
        "from outpaint import downscale_and_perlin\n",
        "import random\n",
        "from super_resolution import generate_base_images_ia\n",
        "import os\n",
        "import torch"
      ],
      "metadata": {
        "id": "n-uxnD6TPIcX"
      },
      "execution_count": null,
      "outputs": []
    },
    {
      "cell_type": "markdown",
      "source": [
        "#Step 0: Generate a starting image, save the image you like and use it as input for next step"
      ],
      "metadata": {
        "id": "msaQboRQxEPK"
      }
    },
    {
      "cell_type": "code",
      "source": [
        "# load model\n",
        "pipe = StableDiffusionPipeline.from_pretrained(\"stabilityai/stable-diffusion-2-1\", revision='fp16', torch_dtype=torch.float16 , safety_checker=None)\n",
        "pipe.to('cuda')\n"
      ],
      "metadata": {
        "id": "Eeea5zuqxLf2"
      },
      "execution_count": null,
      "outputs": []
    },
    {
      "cell_type": "code",
      "source": [
        "# inference\n",
        "prompt = \"cute fox, psychedelic\"\n",
        "num_images_per_prompt = 4\n",
        "num_inference_steps = 20\n",
        "images = pipe(prompt, num_images_per_prompt=num_images_per_prompt, num_inference_steps=num_inference_steps).images\n",
        "\n",
        "images = [img.resize((512,512)) for img in images]\n",
        "for i,img in enumerate(images):\n",
        "  print('------------------------------------------------')\n",
        "  display(img)"
      ],
      "metadata": {
        "id": "3C7lgzL4yg4E"
      },
      "execution_count": null,
      "outputs": []
    },
    {
      "cell_type": "markdown",
      "source": [
        "# UI: Generate and Save outpainting steps"
      ],
      "metadata": {
        "id": "y_x9rWXW68Vw"
      }
    },
    {
      "cell_type": "code",
      "source": [
        "import torch\n",
        "torch.cuda.empty_cache()\n",
        "!python gradio_app.py"
      ],
      "metadata": {
        "id": "0OfDRZ8H8YWJ"
      },
      "execution_count": null,
      "outputs": []
    },
    {
      "cell_type": "markdown",
      "source": [
        "# optional: download HQ triplets if not saved in google drive"
      ],
      "metadata": {
        "id": "dZ0iL4AQ5vdY"
      }
    },
    {
      "cell_type": "code",
      "source": [
        "from google.colab import files\n",
        "\n",
        "save_path = \"/content/drive/MyDrive/stable-diffusion-infinite-outpaint/base_images\"\n",
        "!zip -r hq_triplets.zip {save_path}\n",
        "\n",
        "files.download(\"hq_triplets.zip\")"
      ],
      "metadata": {
        "id": "QvSyz8K_5gmC"
      },
      "execution_count": null,
      "outputs": []
    }
  ]
}